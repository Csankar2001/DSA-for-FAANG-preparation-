{
  "nbformat": 4,
  "nbformat_minor": 0,
  "metadata": {
    "colab": {
      "provenance": [],
      "collapsed_sections": []
    },
    "kernelspec": {
      "name": "python3",
      "display_name": "Python 3"
    },
    "language_info": {
      "name": "python"
    }
  },
  "cells": [
    {
      "cell_type": "code",
      "execution_count": 5,
      "metadata": {
        "colab": {
          "base_uri": "https://localhost:8080/"
        },
        "id": "QRhKDNmSN2ck",
        "outputId": "202fe338-18f4-4722-dec0-48d008344a48"
      },
      "outputs": [
        {
          "output_type": "stream",
          "name": "stdout",
          "text": [
            "5\n"
          ]
        }
      ],
      "source": [
        "def peakelement(arr,N):\n",
        "  max=0\n",
        "  j=0\n",
        "  for i in range (N-1):\n",
        "    if(arr[i]>max):\n",
        "      max=arr[i]\n",
        "      j=i\n",
        "  return j    \n",
        "# Driver code\n",
        "arr =  [40, 25, 68, 79, 52, 98, 89, 97]\n",
        "N = len(arr)\n",
        "print(peakelement(arr,N))\n",
        "  \n",
        "#Time Complexity: O(N), where N is size of the array.\n",
        "#Space Complexity: O(1). "
      ]
    }
  ]
}