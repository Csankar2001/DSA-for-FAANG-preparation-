{
  "nbformat": 4,
  "nbformat_minor": 0,
  "metadata": {
    "colab": {
      "provenance": [],
      "collapsed_sections": [],
      "toc_visible": true
    },
    "kernelspec": {
      "name": "python3",
      "display_name": "Python 3"
    },
    "language_info": {
      "name": "python"
    }
  },
  "cells": [
    {
      "cell_type": "code",
      "execution_count": 3,
      "metadata": {
        "colab": {
          "base_uri": "https://localhost:8080/"
        },
        "id": "KlKdgwBg6eW7",
        "outputId": "593155a4-7ccd-442e-9622-ce61412b8aee"
      },
      "outputs": [
        {
          "output_type": "stream",
          "name": "stdout",
          "text": [
            "kth smallest element is 40\n"
          ]
        }
      ],
      "source": [
        "#Program to find K'th smallest\n",
        "# element\n",
        "\n",
        "# Function to return K'th smallest\n",
        "# element in a given array\n",
        "\n",
        "\n",
        "def kthSmallest(arr, N, K):\n",
        "\n",
        "\t# Sort the given array\n",
        "\tarr.sort()\n",
        "\n",
        "\t# Return k'th element in the\n",
        "\t# sorted array\n",
        "\treturn arr[K-1]\n",
        "\n",
        "\n",
        "# Driver code\n",
        "if __name__ == '__main__':\n",
        "\tarr =  [40, 25, 68, 79, 52, 66, 89, 97]\n",
        "\tN = len(arr)\n",
        "\tK = 2\n",
        "\n",
        "\t# Function call\n",
        "\tprint(\"kth smallest element is\",\n",
        "\t\tkthSmallest(arr, N, K))\n",
        "#Time Complexity: O(N log N)====> O(NlogN )--- for sort the array,O(1)-->return the element .\n",
        "#Auxiliary Space: O(1)====> no extra space needed."
      ]
    },
    {
      "cell_type": "code",
      "source": [
        "# program to find K'th smallest element\n",
        "# using min heap\n",
        "\n",
        "# Class for Min Heap\n",
        "\n",
        "\n",
        "class MinHeap:\n",
        "\n",
        "\t# Constructor\n",
        "\tdef __init__(self, a, size):\n",
        "\n",
        "\t\t# list of elements in the heap\n",
        "\t\tself.harr = a\n",
        "\n",
        "\t\t# maximum possible size of min heap\n",
        "\t\tself.capacity = None\n",
        "\n",
        "\t\t# current number of elements in min heap\n",
        "\t\tself.heap_size = size\n",
        "\n",
        "\t\ti = int((self.heap_size - 1) / 2)\n",
        "\t\twhile i >= 0:\n",
        "\t\t\tself.minHeapify(i)\n",
        "\t\t\ti -= 1\n",
        "\n",
        "\tdef parent(self, i):\n",
        "\t\treturn (i - 1) / 2\n",
        "\n",
        "\tdef left(self, i):\n",
        "\t\treturn 2 * i + 1\n",
        "\n",
        "\tdef right(self, i):\n",
        "\t\treturn 2 * i + 2\n",
        "\n",
        "\t# Returns minimum\n",
        "\tdef getMin(self):\n",
        "\t\treturn self.harr[0]\n",
        "\n",
        "\t# Method to remove minimum element (or root)\n",
        "\t# from min heap\n",
        "\tdef extractMin(self):\n",
        "\t\tif self.heap_size == 0:\n",
        "\t\t\treturn float(\"inf\")\n",
        "\n",
        "\t\t# Store the minimum value\n",
        "\t\troot = self.harr[0]\n",
        "\n",
        "\t\t# If there are more than 1 items, move the last item\n",
        "\t\t# to root and call heapify\n",
        "\t\tif self.heap_size > 1:\n",
        "\t\t\tself.harr[0] = self.harr[self.heap_size - 1]\n",
        "\t\t\tself.minHeapify(0)\n",
        "\t\tself.heap_size -= 1\n",
        "\t\treturn root\n",
        "\n",
        "\t# A recursive method to heapify a subtree with root at\n",
        "\t# given index. This method assumes that the subtrees\n",
        "\t# are already heapified\n",
        "\tdef minHeapify(self, i):\n",
        "\t\tl = self.left(i)\n",
        "\t\tr = self.right(i)\n",
        "\t\tsmallest = i\n",
        "\t\tif ((l < self.heap_size) and\n",
        "\t\t\t\t(self.harr[l] < self.harr[i])):\n",
        "\t\t\tsmallest = l\n",
        "\t\tif ((r < self.heap_size) and\n",
        "\t\t\t\t(self.harr[r] < self.harr[smallest])):\n",
        "\t\t\tsmallest = r\n",
        "\t\tif smallest != i:\n",
        "\t\t\tself.harr[i], self.harr[smallest] = (\n",
        "\t\t\t\tself.harr[smallest], self.harr[i])\n",
        "\t\t\tself.minHeapify(smallest)\n",
        "\n",
        "# Function to return k'th smallest element in a given array\n",
        "\n",
        "\n",
        "def kthSmallest(arr, N, K):\n",
        "\n",
        "\t# Build a heap of n elements in O(n) time\n",
        "\tmh = MinHeap(arr, N)\n",
        "\n",
        "\t# Do extract min (k-1) times\n",
        "\tfor i in range(K - 1):\n",
        "\t\tmh.extractMin()\n",
        "\n",
        "\t# Return root\n",
        "\treturn mh.getMin()\n",
        "\n",
        "\n",
        "# Driver's code\n",
        "if __name__ == '__main__':\n",
        "\tarr = [40, 25, 68, 79, 52, 66, 89, 97]\n",
        "\tN = len(arr)\n",
        "\tK = 2\n",
        "\n",
        "\t# Function call\n",
        "\tprint(\"K'th smallest element is\", kthSmallest(arr, N, K))\n",
        "\n",
        "# Time complexity: O(N + K Log N).=====>Building a minheap-->O(N),Deletion of k element-->O(klogN) \n",
        "#Auxiliary Space: O(N).====>Building a minheap extra array is required.\n"
      ],
      "metadata": {
        "colab": {
          "base_uri": "https://localhost:8080/"
        },
        "id": "_58rqAaq8Mhw",
        "outputId": "22e87ad2-9ad4-415e-c48e-536159730b4c"
      },
      "execution_count": 4,
      "outputs": [
        {
          "output_type": "stream",
          "name": "stdout",
          "text": [
            "K'th smallest element is 40\n"
          ]
        }
      ]
    },
    {
      "cell_type": "code",
      "source": [
        "# Using quick sort\n",
        "\n",
        "\n",
        "import sys\n",
        "\n",
        "\n",
        "def kthSmallest(arr, l, r, K):\n",
        "\n",
        "\t# If k is smaller than number of\n",
        "\t# elements in array\n",
        "\tif (K > 0 and K <= r - l + 1):\n",
        "\n",
        "\t\t# Partition the array around last\n",
        "\t\t# element and get position of pivot\n",
        "\t\t# element in sorted array\n",
        "\t\tpos = partition(arr, l, r)\n",
        "\n",
        "\t\t# If position is same as k\n",
        "\t\tif (pos - l == K - 1):\n",
        "\t\t\treturn arr[pos]\n",
        "\t\tif (pos - l > K - 1): # If position is more,\n",
        "\t\t\t\t\t\t\t# recursive call for left subarray\n",
        "\t\t\treturn kthSmallest(arr, l, pos - 1, K)\n",
        "\n",
        "\t\t# Else recursive call for right subarray\n",
        "\t\treturn kthSmallest(arr, pos + 1, r,\n",
        "\t\t\t\t\t\tK - pos + l - 1)\n",
        "\n",
        "\t# If k is more than number of\n",
        "\t# elements in array\n",
        "\treturn sys.maxsize\n",
        "\n",
        "# Standard partition process of QuickSort().\n",
        "# It considers the last element as pivot and\n",
        "# moves all smaller element to left of it\n",
        "# and greater elements to right\n",
        "\n",
        "\n",
        "def partition(arr, l, r):\n",
        "\n",
        "\tx = arr[r]\n",
        "\ti = l\n",
        "\tfor j in range(l, r):\n",
        "\t\tif (arr[j] <= x):\n",
        "\t\t\tarr[i], arr[j] = arr[j], arr[i]\n",
        "\t\t\ti += 1\n",
        "\tarr[i], arr[r] = arr[r], arr[i]\n",
        "\treturn i\n",
        "\n",
        "\n",
        "# Driver's Code\n",
        "if __name__ == \"__main__\":\n",
        "\n",
        "\tarr = [12, 3, 5, 7, 4, 19, 26]\n",
        "\tN = len(arr)\n",
        "\tK = 3\n",
        "\tprint(\"K'th smallest element is\",\n",
        "\t\tkthSmallest(arr, 0, N - 1, K))\n",
        "\n",
        "#Time Complexity: O(N2) in worst case and O(N) on average \n",
        "#Auxiliary Space: O(1)\n"
      ],
      "metadata": {
        "colab": {
          "base_uri": "https://localhost:8080/"
        },
        "id": "TdY2plNr-J2p",
        "outputId": "d7202de2-0d69-457c-f10b-be7b8af971de"
      },
      "execution_count": 5,
      "outputs": [
        {
          "output_type": "stream",
          "name": "stdout",
          "text": [
            "K'th smallest element is 5\n"
          ]
        }
      ]
    }
  ]
}