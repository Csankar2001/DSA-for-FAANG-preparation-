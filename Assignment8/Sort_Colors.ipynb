{
  "nbformat": 4,
  "nbformat_minor": 0,
  "metadata": {
    "colab": {
      "provenance": []
    },
    "kernelspec": {
      "name": "python3",
      "display_name": "Python 3"
    },
    "language_info": {
      "name": "python"
    }
  },
  "cells": [
    {
      "cell_type": "code",
      "execution_count": 2,
      "metadata": {
        "colab": {
          "base_uri": "https://localhost:8080/"
        },
        "id": "7q-EkC19BnNY",
        "outputId": "e2d779b7-cd83-422b-9cc5-da12523bc338"
      },
      "outputs": [
        {
          "output_type": "stream",
          "name": "stdout",
          "text": [
            "Sorted array: [0, 0, 1, 1, 2, 2]\n"
          ]
        }
      ],
      "source": [
        "#Using QuickSort\n",
        "\n",
        "\n",
        "# Function to find the partition position\n",
        "def partition(array, low, high):\n",
        "\n",
        "\t# Choose the rightmost element as pivot\n",
        "\tpivot = array[high]\n",
        "\n",
        "\t# Pointer for greater element\n",
        "\ti = low - 1\n",
        "\n",
        "\t# Traverse through all elements\n",
        "\t# compare each element with pivot\n",
        "\tfor j in range(low, high):\n",
        "\t\tif array[j] <= pivot:\n",
        "\t\t\t# If element smaller than pivot is found\n",
        "\t\t\t# swap it with the greater element pointed by i\n",
        "\t\t\ti = i + 1\n",
        "\n",
        "\t\t\t# Swapping element at i with element at j\n",
        "\t\t\t(array[i], array[j]) = (array[j], array[i])\n",
        "\n",
        "\t# Swap the pivot element with\n",
        "\t# e greater element specified by i\n",
        "\t(array[i + 1], array[high]) = (array[high], array[i + 1])\n",
        "\n",
        "\t# Return the position from where partition is done\n",
        "\treturn i + 1\n",
        "\n",
        "# Function to perform quicksort\n",
        "\n",
        "\n",
        "def quick_sort(array, low, high):\n",
        "\tif low < high:\n",
        "\n",
        "\t\t# Find pivot element such that\n",
        "\t\t# element smaller than pivot are on the left\n",
        "\t\t# element greater than pivot are on the right\n",
        "\t\tpi = partition(array, low, high)\n",
        "\n",
        "\t\t# Recursive call on the left of pivot\n",
        "\t\tquick_sort(array, low, pi - 1)\n",
        "\n",
        "\t\t# Recursive call on the right of pivot\n",
        "\t\tquick_sort(array, pi + 1, high)\n",
        "\n",
        "\n",
        "# Driver code\n",
        "array = [2,0,2,1,1,0]\n",
        "quick_sort(array, 0, len(array) - 1)\n",
        "\n",
        "print(f'Sorted array: {array}')\n",
        "\n",
        "#Time Complexity: O(N2) in worst case and O(N) on average \n",
        "#Auxiliary Space: O(1)\n"
      ]
    }
  ]
}