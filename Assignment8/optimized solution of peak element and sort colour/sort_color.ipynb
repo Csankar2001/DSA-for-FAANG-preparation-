{
  "nbformat": 4,
  "nbformat_minor": 0,
  "metadata": {
    "colab": {
      "provenance": []
    },
    "kernelspec": {
      "name": "python3",
      "display_name": "Python 3"
    },
    "language_info": {
      "name": "python"
    }
  },
  "cells": [
    {
      "cell_type": "code",
      "source": [
        "\n",
        "# Function to sort array \n",
        "def Sortarray( arr, arr_size): \n",
        "  low = 0\n",
        "  high = arr_size - 1\n",
        "  mid = 0\n",
        "  while mid <= high: \n",
        "    if arr[mid] == 0: \n",
        "      arr[low],arr[mid] = arr[mid],arr[low] \n",
        "      low = low + 1\n",
        "      mid = mid + 1\n",
        "    elif arr[mid] == 1: \n",
        "      mid = mid + 1\n",
        "    else: \n",
        "      arr[mid],arr[high] = arr[high],arr[mid] \n",
        "      high = high - 1\n",
        "  return arr \n",
        "\t\n",
        "\n",
        "\t\n",
        "\t\n",
        "\n",
        "# Driver Program \n",
        "arr =  [2,0,2,1,1,0] \n",
        "arr_size = len(arr)\n",
        "print(Sortarray( arr, arr_size))\n",
        "\n",
        "#Time Complexity: O(n), Only one traversal of the array is needed.\n",
        "#Space Complexity: O(1), No extra space is required."
      ],
      "metadata": {
        "colab": {
          "base_uri": "https://localhost:8080/"
        },
        "id": "nM4SiVQC9Eca",
        "outputId": "12429fef-fa9b-4914-aa7f-536e8a71a6b5"
      },
      "execution_count": 30,
      "outputs": [
        {
          "output_type": "stream",
          "name": "stdout",
          "text": [
            "[0, 0, 1, 1, 2, 2]\n"
          ]
        }
      ]
    }
  ]
}