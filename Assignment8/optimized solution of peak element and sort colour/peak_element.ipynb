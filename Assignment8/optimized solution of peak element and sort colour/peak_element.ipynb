{
  "nbformat": 4,
  "nbformat_minor": 0,
  "metadata": {
    "colab": {
      "provenance": []
    },
    "kernelspec": {
      "name": "python3",
      "display_name": "Python 3"
    },
    "language_info": {
      "name": "python"
    }
  },
  "cells": [
    {
      "cell_type": "code",
      "source": [
        "\n",
        "\n",
        "def findPeak(arr, n):\n",
        "\n",
        "\tl = 0\n",
        "\tr = n-1\n",
        "\t\n",
        "\twhile(l <= r):\n",
        "\n",
        "\t\tmid = (l + r) // 2\n",
        "\t\tif((mid == 0 or arr[mid - 1] <= arr[mid]) and (mid == n - 1 or arr[mid + 1] <= arr[mid])):\n",
        "\t\t\tbreak\n",
        "\t\tif(mid > 0 and arr[mid - 1] > arr[mid]):\n",
        "\t\t\tr = mid - 1\n",
        "\t\telse:\n",
        "\t\t\tl = mid + 1\n",
        "\n",
        "\treturn mid\n",
        "\n",
        "\n",
        "# Driver Code\n",
        "arr = [1,2,3,1]\n",
        "n = len(arr)\n",
        "print(findPeak(arr, n))\n",
        "\n",
        "\n",
        "\n",
        "\n",
        "#Time Complexity: O(logn),In each step search becomes half. So it can be compared to Binary search, So the time complexity is O(log N)\n",
        "#Space Complexity: O(1), No extra space is required."
      ],
      "metadata": {
        "colab": {
          "base_uri": "https://localhost:8080/"
        },
        "id": "nM4SiVQC9Eca",
        "outputId": "d4c1545e-fc16-4e53-f8f2-e1615b314134"
      },
      "execution_count": 32,
      "outputs": [
        {
          "output_type": "stream",
          "name": "stdout",
          "text": [
            "2\n"
          ]
        }
      ]
    }
  ]
}