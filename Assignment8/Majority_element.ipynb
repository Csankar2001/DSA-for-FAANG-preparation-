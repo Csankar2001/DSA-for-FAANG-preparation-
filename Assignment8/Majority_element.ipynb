{
  "nbformat": 4,
  "nbformat_minor": 0,
  "metadata": {
    "colab": {
      "provenance": [],
      "collapsed_sections": []
    },
    "kernelspec": {
      "name": "python3",
      "display_name": "Python 3"
    },
    "language_info": {
      "name": "python"
    }
  },
  "cells": [
    {
      "cell_type": "code",
      "execution_count": 4,
      "metadata": {
        "colab": {
          "base_uri": "https://localhost:8080/"
        },
        "id": "6-ISO26NHgGE",
        "outputId": "7f3250eb-a175-4103-ae92-3aa9b309238a"
      },
      "outputs": [
        {
          "output_type": "stream",
          "name": "stdout",
          "text": [
            "Majority element is 2\n"
          ]
        }
      ],
      "source": [
        "#finding out majority element in an array\n",
        "\n",
        "# Function to find the element for Majority\n",
        "def findelement(A):\n",
        "\tmaj_index = 0\n",
        "\tcount = 1\n",
        "\tfor i in range(len(A)):\n",
        "\t\tif A[maj_index] == A[i]:\n",
        "\t\t\tcount += 1\n",
        "\t\telse:\n",
        "\t\t\tcount -= 1\n",
        "\t\tif count == 0:\n",
        "\t\t\tmaj_index = i\n",
        "\t\t\tcount = 1\n",
        "\treturn A[maj_index]\n",
        "\n",
        "\n",
        "\n",
        "\n",
        "def isMajority(A, element):\n",
        "\tcount = 0\n",
        "\tfor i in range(len(A)):\n",
        "\t\tif A[i] == element:\n",
        "\t\t\tcount += 1\n",
        "\tif count > len(A)/2:\n",
        "\t\treturn True\n",
        "\telse:\n",
        "\t\treturn False\n",
        "\n",
        "# Function to print Majority Element\n",
        "def printMajority(A):\n",
        "\t# Find the element for Majority\n",
        "\tele = findelement(A)\n",
        "\n",
        "\t# Print the element if it is Majority\n",
        "\tif isMajority(A, ele) == True:\n",
        "\t\tprint(\"Majority element is\",ele)\n",
        "\telse:\n",
        "\t\tprint(\"No Majority Element\")\n",
        "\n",
        "\n",
        "# Driver code\n",
        "A = [2, 2, 1, 1, 1, 2, 2]\n",
        "\n",
        "# Function call\n",
        "printMajority(A)\n",
        "\n",
        "#Time Complexity: O(n), As two traversal of the array, is needed.\n",
        "#Auxiliary Space: O(1), As no extra space is required\n"
      ]
    }
  ]
}