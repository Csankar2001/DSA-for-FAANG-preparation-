{
  "nbformat": 4,
  "nbformat_minor": 0,
  "metadata": {
    "colab": {
      "provenance": []
    },
    "kernelspec": {
      "name": "python3",
      "display_name": "Python 3"
    },
    "language_info": {
      "name": "python"
    }
  },
  "cells": [
    {
      "cell_type": "code",
      "execution_count": 2,
      "metadata": {
        "colab": {
          "base_uri": "https://localhost:8080/"
        },
        "id": "toUyNSuxDgHf",
        "outputId": "ed20efba-a10e-4fd6-99b5-03dcdcc4a1b3"
      },
      "outputs": [
        {
          "output_type": "stream",
          "name": "stdout",
          "text": [
            "kth largest element is 89\n"
          ]
        }
      ],
      "source": [
        "#Program to find K'th largest\n",
        "# element\n",
        "\n",
        "# Function to return K'th largest\n",
        "# element in a given array\n",
        "\n",
        "\n",
        "def kthlargest(arr, N, K):\n",
        "\n",
        "\t# Sort the given array\n",
        "\tarr.sort()\n",
        "\n",
        "\t# Return k'th element in the\n",
        "\t# sorted array\n",
        "\treturn arr[N-K]\n",
        "\n",
        "\n",
        "# Driver code\n",
        "if __name__ == '__main__':\n",
        "\tarr =  [40, 25, 68, 79, 52, 66, 89, 97]\n",
        "\tN = len(arr)\n",
        "\tK = 2\n",
        "\n",
        "\t# Function call\n",
        "\tprint(\"kth largest element is\",\n",
        "\t\tkthlargest(arr, N, K))\n",
        "#Time Complexity: O(N log N)====> O(NlogN )--- for sort the array,O(1)-->return the element .\n",
        "#Auxiliary Space: O(1)====> no extra space needed."
      ]
    },
    {
      "cell_type": "code",
      "source": [
        "import heapq\n",
        " \n",
        " \n",
        "def kthLargest(arr, size, k):\n",
        "    pq = []\n",
        " \n",
        "    for i in range(size):\n",
        "        heapq.heappush(pq, -1 * arr[i])\n",
        " \n",
        "    l = k - 1\n",
        "    while l > 0:\n",
        "        heapq.heappop(pq)\n",
        "        l = l - 1\n",
        " \n",
        "    return -1 * pq[0]\n",
        "\n",
        "# Driver code\n",
        "arr =  [40, 25, 68, 79, 52, 66, 89, 97]\n",
        "N = len(arr)\n",
        "K = 2\n",
        "print(\"kth largest element is\",kthlargest(arr, N, K))\n",
        "#Time Complexity: O(K + (N – K) * log(K) ), where N is size of the array.\n",
        "#Space Complexity: O(K), since the heap is used."
      ],
      "metadata": {
        "colab": {
          "base_uri": "https://localhost:8080/"
        },
        "id": "T3gGkQDLLjiY",
        "outputId": "f4bce45f-6e70-4ba1-ca8c-24cecd493d64"
      },
      "execution_count": 7,
      "outputs": [
        {
          "output_type": "stream",
          "name": "stdout",
          "text": [
            "kth largest element is 89\n"
          ]
        }
      ]
    }
  ]
}