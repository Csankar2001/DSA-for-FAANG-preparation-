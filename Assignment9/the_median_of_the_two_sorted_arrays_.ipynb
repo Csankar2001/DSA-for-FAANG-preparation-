{
  "nbformat": 4,
  "nbformat_minor": 0,
  "metadata": {
    "colab": {
      "provenance": []
    },
    "kernelspec": {
      "name": "python3",
      "display_name": "Python 3"
    },
    "language_info": {
      "name": "python"
    }
  },
  "cells": [
    {
      "cell_type": "code",
      "execution_count": 6,
      "metadata": {
        "colab": {
          "base_uri": "https://localhost:8080/"
        },
        "id": "2W1IHHb0s-Xd",
        "outputId": "bd5b823a-526c-4c27-97dc-4697b6269256"
      },
      "outputs": [
        {
          "output_type": "stream",
          "name": "stdout",
          "text": [
            "The median is:  13\n"
          ]
        }
      ],
      "source": [
        "\n",
        "def findMedianSortedArrays(a, n, b, m):\n",
        "\t\n",
        "\tmin_index = 0\n",
        "\tmax_index = n\n",
        "\t\n",
        "\twhile (min_index <= max_index):\n",
        "\t\t\n",
        "\t\ti = (min_index + max_index) // 2\n",
        "\t\tj = ((n + m + 1) // 2) - i\n",
        "\t\n",
        "\t\t\n",
        "\t\tif (i < n and j > 0 and b[j - 1] > a[i]):\t\n",
        "\t\t\tmin_index = i + 1\n",
        "\t\t\n",
        "\t\n",
        "\t\telif (i > 0 and j < m and b[j] < a[i - 1]):\t\n",
        "\t\t\tmax_index = i - 1\n",
        "\t\t\n",
        "\t\t# we have found the desired halves.\n",
        "\t\telse:\n",
        "\t\t\t\n",
        "\t\t\t\n",
        "\t\t\tif (i == 0):\n",
        "\t\t\t\treturn b[j - 1]\t\t\n",
        "\t\t\t\n",
        "\t\t\t\n",
        "\t\t\tif (j == 0):\n",
        "\t\t\t\treturn a[i - 1]\t\t\n",
        "\t\t\telse:\n",
        "\t\t\t\treturn maximum(a[i - 1], b[j - 1])\n",
        "\t\n",
        "\tprint(\"error\" )\n",
        "\treturn 0\n",
        "\n",
        "# Function to find maximum\n",
        "def maximum(a, b) :\n",
        "\treturn a if a > b else b\n",
        "\n",
        "# Driver code\n",
        "if __name__ == \"__main__\":\n",
        "\ta = [900]\n",
        "\tb = [10, 13, 14]\n",
        "\tn = len(a)\n",
        "\tm = len(b)\n",
        "\t\n",
        "\t\n",
        "\tif (n < m):\n",
        "\t\tprint( \"The median is: \",\n",
        "\t\t\t\tfindMedianSortedArrays(a, n, b, m))\n",
        "\telse:\n",
        "\t\tprint( \"The median is: \",\n",
        "\t\t\t\tfindMedianSortedArrays(b, m, a, n))\n",
        "\n",
        "##Time Complexity : O(log(min(n, m))), where n and m are the sizes of given sorted array\n",
        "##Space complexity:O(n)"
      ]
    }
  ]
}