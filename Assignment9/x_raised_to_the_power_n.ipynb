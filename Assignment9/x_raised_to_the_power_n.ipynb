{
  "nbformat": 4,
  "nbformat_minor": 0,
  "metadata": {
    "colab": {
      "provenance": []
    },
    "kernelspec": {
      "name": "python3",
      "display_name": "Python 3"
    },
    "language_info": {
      "name": "python"
    }
  },
  "cells": [
    {
      "cell_type": "code",
      "execution_count": 3,
      "metadata": {
        "colab": {
          "base_uri": "https://localhost:8080/"
        },
        "id": "K9xq8zCFzJxz",
        "outputId": "f77e3f0f-9d9d-405c-ea13-9448a68233c2"
      },
      "outputs": [
        {
          "output_type": "stream",
          "name": "stdout",
          "text": [
            "0.2500\n"
          ]
        }
      ],
      "source": [
        "\n",
        "def power(x, y):\n",
        "\n",
        "\tif(y == 0):\n",
        "\t\treturn 1\n",
        "\ttemp = power(x, int(y / 2))\n",
        "\n",
        "\tif (y % 2 == 0):\n",
        "\t\treturn temp * temp\n",
        "\telse:\n",
        "\t\tif(y > 0):\n",
        "\t\t\treturn x * temp * temp\n",
        "\t\telse:\n",
        "\t\t\treturn (temp * temp) / x\n",
        "\n",
        "\n",
        "# Driver Code\n",
        "if __name__ == \"__main__\":\n",
        "\tx, y = 2, -2\n",
        "\n",
        "\t# Function call\n",
        "\tprint('%.4f' % (power(x, y)))\n",
        "\n",
        "##Time Complexity: O(logn)\n",
        "##Auxiliary Space: O(1)\n"
      ]
    }
  ]
}