{
  "nbformat": 4,
  "nbformat_minor": 0,
  "metadata": {
    "colab": {
      "provenance": []
    },
    "kernelspec": {
      "name": "python3",
      "display_name": "Python 3"
    },
    "language_info": {
      "name": "python"
    }
  },
  "cells": [
    {
      "cell_type": "code",
      "execution_count": 1,
      "metadata": {
        "colab": {
          "base_uri": "https://localhost:8080/"
        },
        "id": "ErcUtaPz16r7",
        "outputId": "9543a820-8d02-4ca3-9ca4-0d8968aaa99b"
      },
      "outputs": [
        {
          "output_type": "stream",
          "name": "stdout",
          "text": [
            "Number of inversions are 5\n"
          ]
        }
      ],
      "source": [
        "\n",
        "def getInvCount(arr, n):\n",
        "\n",
        "\tinv_count = 0\n",
        "\tfor i in range(n):\n",
        "\t\tfor j in range(i + 1, n):\n",
        "\t\t\tif (arr[i] > arr[j]):\n",
        "\t\t\t\tinv_count += 1\n",
        "\n",
        "\treturn inv_count\n",
        "\n",
        "\n",
        "# Driver Code\n",
        "arr = [1, 20, 6, 4, 5]\n",
        "n = len(arr)\n",
        "print(\"Number of inversions are\",getInvCount(arr, n))\n",
        "\n",
        "#Time Complexity: O(N2), Two nested loops are needed to traverse the array from start to end.\n",
        "#Auxiliary Space: O(1), No extra space is required.\n",
        "\n",
        "\n"
      ]
    }
  ]
}