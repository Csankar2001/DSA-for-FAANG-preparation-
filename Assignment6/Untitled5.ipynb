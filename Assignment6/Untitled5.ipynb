{
  "metadata": {
    "language_info": {
      "codemirror_mode": {
        "name": "python",
        "version": 3
      },
      "file_extension": ".py",
      "mimetype": "text/x-python",
      "name": "python",
      "nbconvert_exporter": "python",
      "pygments_lexer": "ipython3",
      "version": "3.8"
    },
    "kernelspec": {
      "name": "python",
      "display_name": "Python (Pyodide)",
      "language": "python"
    }
  },
  "nbformat_minor": 4,
  "nbformat": 4,
  "cells": [
    {
      "cell_type": "code",
      "source": "from collections import Counter\nimport heapq\ndef MostFrequentPurchase(purchases):\n    purchases.sort()\n    count = Counter(purchases) #stores the frequency of the strings in the form of a dictionary.\n    result = heapq.nlargest(3,count,key=count.get)\n    return result\n\n#driver code\npurchases = ['priya', 'bhatia', 'akshay', 'arpit', 'priya', 'arpit']\nresult = MostFrequentPurchase(purchases)\nprint(f\"The most frequent purchase of the day is {result}\")\n",
      "metadata": {
        "trusted": true
      },
      "execution_count": 5,
      "outputs": [
        {
          "name": "stdout",
          "text": "The most frequent purchase of the day is ['arpit', 'priya', 'akshay']\n",
          "output_type": "stream"
        }
      ]
    },
    {
      "cell_type": "code",
      "source": "",
      "metadata": {},
      "execution_count": null,
      "outputs": []
    }
  ]
}