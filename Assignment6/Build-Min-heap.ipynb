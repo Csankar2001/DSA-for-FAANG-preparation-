{
  "metadata": {
    "language_info": {
      "codemirror_mode": {
        "name": "python",
        "version": 3
      },
      "file_extension": ".py",
      "mimetype": "text/x-python",
      "name": "python",
      "nbconvert_exporter": "python",
      "pygments_lexer": "ipython3",
      "version": "3.8"
    },
    "kernelspec": {
      "name": "python",
      "display_name": "Python (Pyodide)",
      "language": "python"
    }
  },
  "nbformat_minor": 4,
  "nbformat": 4,
  "cells": [
    {
      "cell_type": "code",
      "source": "# Python program for building minHeap from Array\n\n# To minheapify a subtree rooted with node i\n# which is an index in arr[]. N is size of heap\n\ndef minheapify(arr, N, i):\n\n\tsmallest = i # Initialize smallest as root\n\tl = 2 * i + 1 # left = 2*i + 1\n\tr = 2 * i + 2 # right = 2*i + 2\n\n\t# If left child is smaller than root\n\tif l < N and arr[l] < arr[smallest]:\n\t\tsmallest = l\n\n\t# If right child is smaller than smallest so far\n\tif r < N and arr[r] < arr[smallest]:\n\t\tsmallest = r\n\n\t# If smallest is not root\n\tif smallest != i:\n\t\tarr[i], arr[smallest] = arr[smallest], arr[i]\n\n\t\t# Recursively minheapify the affected sub-tree\n\t\tminheapify(arr, N, smallest)\n\n# Function to build a Min-Heap from the given array\n\n\ndef buildHeap(arr, N):\n\n\t# Index of last non-leaf node\n\tstartIdx = N // 2 - 1\n\n\t# Perform reverse level order traversal\n\t# from last non-leaf node and heapify\n\t# each node\n\tfor i in range(startIdx, -1, -1):\n\t\tminheapify(arr, N, i)\n\n# A utility function to print the array\n# representation of Heap\n\n\ndef printHeap(arr, N):\n\tprint(\"Array representation of Heap is:\")\n\n\tfor i in range(N):\n\t\tprint(arr[i], end=\" \")\n\tprint()\n\n\n# Driver Code\nif __name__ == '__main__':\n\n\t# Binary Tree Representation\n\t# of input array\n\t#\t\t\t 1\n\t#\t\t / \\\n\t#\t\t 3\t 7\n\t#\t / \\\t / \\\n\t#\t 9\t 12 10 5\n\t# / \\    / \\\n\t# 16 8 22 27\n\tarr =  [1, 3, 7, 9, 12, 10, 5, 16, 8, 22, 27]\n\n\n\tN = len(arr)\n\n\tbuildHeap(arr, N)\n\tprintHeap(arr, N)\n\n\t# Final Heap:\n\t#\t\t\t 1\n\t#\t\t / \\\n\t#\t\t 3 \t 5\n\t#\t / \\\t / \\\n\t#\t 8\t12 10   7\n\t#\t/ \\ / \\\n\t#  16 9 22 27\n\n\n",
      "metadata": {
        "trusted": true
      },
      "execution_count": 3,
      "outputs": [
        {
          "name": "stdout",
          "text": "Array representation of Heap is:\n1 3 5 8 12 10 7 16 9 22 27 \n",
          "output_type": "stream"
        }
      ]
    },
    {
      "cell_type": "code",
      "source": "",
      "metadata": {},
      "execution_count": null,
      "outputs": []
    }
  ]
}