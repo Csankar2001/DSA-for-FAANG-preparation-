{
  "metadata": {
    "language_info": {
      "codemirror_mode": {
        "name": "python",
        "version": 3
      },
      "file_extension": ".py",
      "mimetype": "text/x-python",
      "name": "python",
      "nbconvert_exporter": "python",
      "pygments_lexer": "ipython3",
      "version": "3.8"
    },
    "kernelspec": {
      "name": "python",
      "display_name": "Python (Pyodide)",
      "language": "python"
    }
  },
  "nbformat_minor": 4,
  "nbformat": 4,
  "cells": [
    {
      "cell_type": "code",
      "source": "# 2. Given three points, check whether they lie on a straight (collinear) or not. [Google]\n\n# Time complexity = O(1)\ndef CheckCollinear(points):\n    #using area of triangle method.\n    x1,x2,x3 = points[0][0],points[1][0],points[2][0]\n    y1,y2,y3 = points[0][1],points[1][1],points[2][1]\n    area = 1/2*(x1*(y2-y3) + x2*(y3-y1) + x3*(y1-y2))\n    if area == 0:\n        return 'Yes'\n    else:\n        return 'No'\n\n# driver code\npoints = [(1,1), (1,6), (0,9)]\nresult = CheckCollinear(points)\nprint(\"Whether the given points are collinear?--->\",result)",
      "metadata": {
        "trusted": true
      },
      "execution_count": 3,
      "outputs": [
        {
          "name": "stdout",
          "text": "Whether the given points are collinear?---> No\n",
          "output_type": "stream"
        }
      ]
    },
    {
      "cell_type": "code",
      "source": "",
      "metadata": {},
      "execution_count": null,
      "outputs": []
    }
  ]
}