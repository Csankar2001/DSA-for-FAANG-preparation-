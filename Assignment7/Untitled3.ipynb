{
  "metadata": {
    "language_info": {
      "codemirror_mode": {
        "name": "python",
        "version": 3
      },
      "file_extension": ".py",
      "mimetype": "text/x-python",
      "name": "python",
      "nbconvert_exporter": "python",
      "pygments_lexer": "ipython3",
      "version": "3.8"
    },
    "kernelspec": {
      "name": "python",
      "display_name": "Python (Pyodide)",
      "language": "python"
    }
  },
  "nbformat_minor": 4,
  "nbformat": 4,
  "cells": [
    {
      "cell_type": "code",
      "source": "#Question 3: An e-commerce site tracks the purchases made each day. The product that is purchased\n#the most one day is the featured product for the following day. If there is a tie for the product\n#purchased most frequently, those product names are ordered alphabetically ascending and\n#the last name in the list is chosen.[Amazon]\n\nfrom collections import Counter\nimport heapq\ndef MostFrequentPurchase(purchases):\n    count = Counter(purchases) #stores the frequency of the strings in the form of a dictionary.\n    result = heapq.nlargest(1,count,key=count.get)\n    return result\n\n#driver code\npurchases = ['yellowShirt', 'redHat', 'blackShirt', 'bluePants', 'redHat','pinkHat', 'blackShirt', 'yellowShirt',\n'greenPants', 'greenPants', 'greenPants']\nresult = MostFrequentPurchase(purchases)\nprint(f\"The most frequent purchase of the day is {result}\")\n\n ",
      "metadata": {
        "trusted": true
      },
      "execution_count": 2,
      "outputs": [
        {
          "name": "stdout",
          "text": "The most frequent purchase of the day is ['greenPants']\n",
          "output_type": "stream"
        }
      ]
    },
    {
      "cell_type": "code",
      "source": "",
      "metadata": {},
      "execution_count": null,
      "outputs": []
    }
  ]
}