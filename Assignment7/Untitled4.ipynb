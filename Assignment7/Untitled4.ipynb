{
  "metadata": {
    "language_info": {
      "codemirror_mode": {
        "name": "python",
        "version": 3
      },
      "file_extension": ".py",
      "mimetype": "text/x-python",
      "name": "python",
      "nbconvert_exporter": "python",
      "pygments_lexer": "ipython3",
      "version": "3.8"
    },
    "kernelspec": {
      "name": "python",
      "display_name": "Python (Pyodide)",
      "language": "python"
    }
  },
  "nbformat_minor": 4,
  "nbformat": 4,
  "cells": [
    {
      "cell_type": "code",
      "source": "\n\nimport sys\n\n# Function to return the sum of a\n# triplet which is closest to x\ndef solution(arr, x) :\n\n\t# Sort the array\n\tarr.sort();\n\t\n\t# To store the closest sum\n\tclosestSum = sys.maxsize;\n\n\t# Fix the smallest number among\n\t# the three integers\n\tfor i in range(len(arr)-2) :\n\n\t\t# Two pointers initially pointing at\n\t\t# the last and the element\n\t\t# next to the fixed element\n\t\tptr1 = i + 1; ptr2 = len(arr) - 1;\n\n\t\t# While there could be more pairs to check\n\t\twhile (ptr1 < ptr2) :\n\n\t\t\t# Calculate the sum of the current triplet\n\t\t\tsum = arr[i] + arr[ptr1] + arr[ptr2];\n\n\t\t\t# If the sum is more closer than\n\t\t\t# the current closest sum\n\t\t\tif (abs(x - sum) < abs(x - closestSum)) :\n\t\t\t\tclosestSum = sum;\n\n\t\t\t# If sum is greater than x then decrement\n\t\t\t# the second pointer to get a smaller sum\n\t\t\tif (sum > x) :\n\t\t\t\tptr2 -= 1;\n\n\t\t\t# Else increment the first pointer\n\t\t\t# to get a larger sum\n\t\t\telse :\n\t\t\t\tptr1 += 1;\n\n\t# Return the closest sum found\n\treturn closestSum;\n\n\n# Driver code\nif __name__ == \"__main__\" :\n\n\tarr = [ -1, 2, 1, -4 ];\n\tx = 0;\n\tprint(solution(arr, x));\n\n#Time complexity: O(N2). \n#              There are only two nested loops traversing the array, so time complexity is O(n^2). \n#             Two pointer algorithm take O(n) time and the first element can be fixed using another nested traversal.\n#Space Complexity: O(1). \n#                 As no extra space is required.\n\n",
      "metadata": {
        "trusted": true
      },
      "execution_count": null,
      "outputs": []
    }
  ]
}