{
  "metadata": {
    "language_info": {
      "codemirror_mode": {
        "name": "python",
        "version": 3
      },
      "file_extension": ".py",
      "mimetype": "text/x-python",
      "name": "python",
      "nbconvert_exporter": "python",
      "pygments_lexer": "ipython3",
      "version": "3.8"
    },
    "kernelspec": {
      "name": "python",
      "display_name": "Python (Pyodide)",
      "language": "python"
    }
  },
  "nbformat_minor": 4,
  "nbformat": 4,
  "cells": [
    {
      "cell_type": "code",
      "source": "#Question 4: An almost sorted array is given to us and the task is to sort that array completely. Then,\n#which sorting algorithm would you prefer and why?[Salesforce] \"\"\"\n\n===>\nThe answer is insertion sort.\nlet us take a example of an almost sorted array , [10,20,30,40,50,5]\nHere time complexity depends upon the number of comparison and the number of swaps.\nIn above example the array is sorted until the element 50, so the number of comparison until the element 50 will be 1 and swaps until the element 50 will be zero,\nas the array is already sorted.\nWhen the element is 5, there will be n-1 number of comparisons and n-1 number of swaps.\nIn case of implementation, until the element 50 , it doesn't go into while loop.When the element is 5, it executes while loop n-1 number of times.\nHence, Time complexity is equal to number of comparison + number of swaps\n=> (n-1) + (n-1)\n=> O(n)\n",
      "metadata": {},
      "execution_count": null,
      "outputs": []
    }
  ]
}